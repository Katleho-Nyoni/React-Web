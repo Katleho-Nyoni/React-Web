{
 "cells": [
  {
   "cell_type": "markdown",
   "id": "f8f18c30-b99f-49be-989a-3dba194e2e0e",
   "metadata": {},
   "source": [
    "# Data Group(DG) Consulting's Agent"
   ]
  },
  {
   "cell_type": "code",
   "execution_count": null,
   "id": "00ee5782-2591-4d01-a5e8-57d4c26e7db1",
   "metadata": {},
   "outputs": [],
   "source": [
    "from dotenv import load_dotenv\n",
    "import os\n",
    "import pandas as pd\n",
    "from langchain_google_genai import ChatGoogleGenerativeAI\n",
    "\n",
    "load_dotenv()  \n",
    "google_api = os.getenv(\"GOOGLE-AI_API_KEY\")\n",
    "\n",
    "llm = ChatGoogleGenerativeAI(model=\"gemini-2.5-pro\", api_key=google_api, temperature=0)\n",
    "print(llm.invoke(\"Tell me a fun fact about something from number theory\"))\n",
    "print(\"✅ All good!\") #Poor man's tool, but it works"
   ]
  },
  {
   "cell_type": "code",
   "execution_count": null,
   "id": "1027dd19-0eca-4e4c-8720-b1bcc345605c",
   "metadata": {},
   "outputs": [],
   "source": [
    "from fastapi import FastAPI, UploadFile\n",
    "from fastapi.middleware.cors import CORSMiddleware\n",
    "import uvicorn\n",
    "\n",
    "# Import your agent here (convert notebook code into a .py file if needed)\n",
    "# from my_agent import MyAgent\n",
    "\n",
    "app = FastAPI()\n",
    "app.add_middleware(\n",
    "    CORSMiddleware,\n",
    "    allow_origins=[\"*\"], allow_methods=[\"*\"], allow_headers=[\"*\"]\n",
    ")\n",
    "\n",
    "@app.post(\"/run-agent\")\n",
    "async def run_agent(file: UploadFile):\n",
    "    content = await file.read()\n",
    "    text = content.decode(\"utf-8\")\n",
    "\n",
    "    # Replace with your actual agent call:\n",
    "    # result = MyAgent.invoke({\"fileContent\": text})\n",
    "    result = f\"Got {len(text)} characters\"\n",
    "\n",
    "    return {\"result\": result}\n",
    "\n",
    "\n",
    "if __name__ == \"__main__\":\n",
    "    uvicorn.run(app, host=\"0.0.0.0\", port=8000)"
   ]
  },
  {
   "cell_type": "code",
   "execution_count": null,
   "id": "8088cd0e-eb45-46fc-9820-4ddffafaf52c",
   "metadata": {},
   "outputs": [],
   "source": [
    "from io import StringIO\n",
    "\n",
    "csv_text = text  # text read from uploaded file\n",
    "df = pd.read_csv(StringIO(csv_text))\n",
    "\n",
    "# Now your agent/tool can analyze the DataFrame\n",
    "print(df.describe())"
   ]
  },
  {
   "cell_type": "code",
   "execution_count": 16,
   "id": "0b6183f9-b925-499f-9636-6d5ebabe18a2",
   "metadata": {},
   "outputs": [
    {
     "name": "stdout",
     "output_type": "stream",
     "text": [
      "2\n",
      "\n"
     ]
    },
    {
     "name": "stderr",
     "output_type": "stream",
     "text": [
      "C:\\Users\\LordEagle\\AppData\\Local\\Temp\\ipykernel_11676\\2906492762.py:23: LangChainDeprecationWarning: LangChain agents will continue to be supported, but it is recommended for new use cases to be built with LangGraph. LangGraph offers a more flexible and full-featured framework for building agents, including support for tool-calling, persistence of state, and human-in-the-loop workflows. For details, refer to the `LangGraph documentation <https://langchain-ai.github.io/langgraph/>`_ as well as guides for `Migrating from AgentExecutor <https://python.langchain.com/docs/how_to/migrate_agent/>`_ and LangGraph's `Pre-built ReAct agent <https://langchain-ai.github.io/langgraph/how-tos/create-react-agent/>`_.\n",
      "  agent = initialize_agent(tools, llm, agent=\"zero-shot-react-description\", verbose=True)\n"
     ]
    },
    {
     "ename": "AttributeError",
     "evalue": "'GoogleGenerativeAI' object has no attribute 'bind_tools'",
     "output_type": "error",
     "traceback": [
      "\u001b[1;31m---------------------------------------------------------------------------\u001b[0m",
      "\u001b[1;31mAttributeError\u001b[0m                            Traceback (most recent call last)",
      "Cell \u001b[1;32mIn[16], line 30\u001b[0m\n\u001b[0;32m     23\u001b[0m agent \u001b[38;5;241m=\u001b[39m initialize_agent(tools, llm, agent\u001b[38;5;241m=\u001b[39m\u001b[38;5;124m\"\u001b[39m\u001b[38;5;124mzero-shot-react-description\u001b[39m\u001b[38;5;124m\"\u001b[39m, verbose\u001b[38;5;241m=\u001b[39m\u001b[38;5;28;01mTrue\u001b[39;00m)\n\u001b[0;32m     25\u001b[0m \u001b[38;5;66;03m# In FastAPI:\u001b[39;00m\n\u001b[0;32m     26\u001b[0m \n\u001b[0;32m     27\u001b[0m \u001b[38;5;66;03m# result = agent.run(text)\u001b[39;00m\n\u001b[1;32m---> 30\u001b[0m llm_with_tools \u001b[38;5;241m=\u001b[39m \u001b[43mllm\u001b[49m\u001b[38;5;241;43m.\u001b[39;49m\u001b[43mbind_tools\u001b[49m(tools)\n",
      "File \u001b[1;32m~\\AppData\\Roaming\\Python\\Python312\\site-packages\\pydantic\\main.py:891\u001b[0m, in \u001b[0;36mBaseModel.__getattr__\u001b[1;34m(self, item)\u001b[0m\n\u001b[0;32m    888\u001b[0m     \u001b[38;5;28;01mreturn\u001b[39;00m \u001b[38;5;28msuper\u001b[39m()\u001b[38;5;241m.\u001b[39m\u001b[38;5;21m__getattribute__\u001b[39m(item)  \u001b[38;5;66;03m# Raises AttributeError if appropriate\u001b[39;00m\n\u001b[0;32m    889\u001b[0m \u001b[38;5;28;01melse\u001b[39;00m:\n\u001b[0;32m    890\u001b[0m     \u001b[38;5;66;03m# this is the current error\u001b[39;00m\n\u001b[1;32m--> 891\u001b[0m     \u001b[38;5;28;01mraise\u001b[39;00m \u001b[38;5;167;01mAttributeError\u001b[39;00m(\u001b[38;5;124mf\u001b[39m\u001b[38;5;124m'\u001b[39m\u001b[38;5;132;01m{\u001b[39;00m\u001b[38;5;28mtype\u001b[39m(\u001b[38;5;28mself\u001b[39m)\u001b[38;5;241m.\u001b[39m\u001b[38;5;18m__name__\u001b[39m\u001b[38;5;132;01m!r}\u001b[39;00m\u001b[38;5;124m object has no attribute \u001b[39m\u001b[38;5;132;01m{\u001b[39;00mitem\u001b[38;5;132;01m!r}\u001b[39;00m\u001b[38;5;124m'\u001b[39m)\n",
      "\u001b[1;31mAttributeError\u001b[0m: 'GoogleGenerativeAI' object has no attribute 'bind_tools'"
     ]
    }
   ],
   "source": [
    "# ***\n",
    "from langchain_experimental.utilities import PythonREPL\n",
    "from langchain.agents import initialize_agent\n",
    "from langchain.agents import Tool\n",
    "\n",
    "python_repl = PythonREPL()\n",
    "\n",
    "# Run code directly\n",
    "output = python_repl.run(\"print(1+1)\")\n",
    "print(output)\n",
    "\n",
    "# Create a tool for agents\n",
    "tools = [\n",
    "    Tool(\n",
    "    name=\"python_repl\",\n",
    "    description=\"Use this Python sandbox to run Python code for data analysis tasks. \"\n",
    "        \"It has pandas installed, so you can read and process tabular data, \"\n",
    "        \"generate summary statistics, and create reports. \"\n",
    "        \"Always print the results so they are returned.\",\n",
    "    func=python_repl.run,)\n",
    "]\n",
    "\n",
    "agent = initialize_agent(tools, llm, agent=\"zero-shot-react-description\", verbose=True)\n",
    "\n",
    "# In FastAPI:\n",
    "\n",
    "# result = agent.run(text)\n",
    "\n",
    "\n",
    "llm_with_tools = llm.bind_tools(tools)"
   ]
  },
  {
   "cell_type": "code",
   "execution_count": 15,
   "id": "e5fa2cd2-4166-4f11-a202-3618117416e5",
   "metadata": {},
   "outputs": [
    {
     "ename": "NameError",
     "evalue": "name 'llm_with_tools' is not defined",
     "output_type": "error",
     "traceback": [
      "\u001b[1;31m---------------------------------------------------------------------------\u001b[0m",
      "\u001b[1;31mNameError\u001b[0m                                 Traceback (most recent call last)",
      "Cell \u001b[1;32mIn[15], line 6\u001b[0m\n\u001b[0;32m      3\u001b[0m \u001b[38;5;66;03m# System message\u001b[39;00m\n\u001b[0;32m      4\u001b[0m sys_msg \u001b[38;5;241m=\u001b[39m SystemMessage(content\u001b[38;5;241m=\u001b[39m\u001b[38;5;124m\"\u001b[39m\u001b[38;5;124mYou are a helpful assistant tasked with generating python code that will create a data analysis report using the pandas library in the python environment.\u001b[39m\u001b[38;5;124m\"\u001b[39m)\n\u001b[1;32m----> 6\u001b[0m \u001b[38;5;28mtype\u001b[39m(\u001b[43mllm_with_tools\u001b[49m\u001b[38;5;241m.\u001b[39minvoke([sys_msg]))\n",
      "\u001b[1;31mNameError\u001b[0m: name 'llm_with_tools' is not defined"
     ]
    }
   ],
   "source": [
    "from langchain_core.messages import SystemMessage\n",
    "\n",
    "# System message\n",
    "sys_msg = SystemMessage(content=\"You are a helpful assistant tasked with generating python code that will create a data analysis report using the pandas library in the python environment.\")\n",
    "\n",
    "type(llm_with_tools.invoke([sys_msg]))"
   ]
  },
  {
   "cell_type": "markdown",
   "id": "281e2534-96c8-4edf-b214-c8d526b6c48a",
   "metadata": {},
   "source": [
    "### TODO List\n",
    "- Make sure JS server is working as intended.\n",
    "- Convert ipynb to py .\n",
    "- Give the llm the tool.\n",
    "- Test the llm with tool.\n",
    "- Test the agent.\n",
    "- Wrap everything in a Start,End and toolNode.\n",
    "\n",
    "I should start taking caffeine seriously! 23:30 is too early to sleep"
   ]
  }
 ],
 "metadata": {
  "kernelspec": {
   "display_name": "Python 3 (ipykernel)",
   "language": "python",
   "name": "python3"
  },
  "language_info": {
   "codemirror_mode": {
    "name": "ipython",
    "version": 3
   },
   "file_extension": ".py",
   "mimetype": "text/x-python",
   "name": "python",
   "nbconvert_exporter": "python",
   "pygments_lexer": "ipython3",
   "version": "3.12.7"
  }
 },
 "nbformat": 4,
 "nbformat_minor": 5
}
