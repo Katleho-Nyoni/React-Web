{
 "cells": [
  {
   "cell_type": "markdown",
   "id": "79e0dc3f",
   "metadata": {},
   "source": [
    "# The following code write the DG Agent that runs & executes Python files."
   ]
  },
  {
   "cell_type": "code",
   "execution_count": null,
   "id": "b42adf98",
   "metadata": {
    "vscode": {
     "languageId": "plaintext"
    }
   },
   "outputs": [],
   "source": [
    "from langchain "
   ]
  }
 ],
 "metadata": {
  "language_info": {
   "name": "python"
  }
 },
 "nbformat": 4,
 "nbformat_minor": 5
}
