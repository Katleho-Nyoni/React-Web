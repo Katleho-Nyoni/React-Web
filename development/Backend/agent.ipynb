{
 "cells": [
  {
   "cell_type": "markdown",
   "id": "f8f18c30-b99f-49be-989a-3dba194e2e0e",
   "metadata": {},
   "source": [
    "# Data Group(DG) Consulting's Agent"
   ]
  },
  {
   "cell_type": "code",
   "execution_count": 8,
   "id": "00ee5782-2591-4d01-a5e8-57d4c26e7db1",
   "metadata": {},
   "outputs": [
    {
     "name": "stdout",
     "output_type": "stream",
     "text": [
      "Of course! Here's a fun fact that feels a bit like a magic trick.\n",
      "\n",
      "It's about **Kaprekar's Constant**, which is the number **6174**.\n",
      "\n",
      "Here's the trick:\n",
      "\n",
      "1.  Pick any four-digit number where the digits are not all the same (e.g., 1111 is not allowed, but 1112 is fine). Let's use **3524**.\n",
      "2.  Arrange the digits in descending and ascending order to get two new numbers.\n",
      "    *   Largest: **5432**\n",
      "    *   Smallest: **2345**\n",
      "3.  Subtract the smaller number from the larger one.\n",
      "    *   5432 - 2345 = **3087**\n",
      "4.  Now, repeat the process with your new number, 3087.\n",
      "    *   Largest: **8730**\n",
      "    *   Smallest: **0378** (remember to use the 0)\n",
      "    *   8730 - 0378 = **8352**\n",
      "5.  Repeat again with 8352:\n",
      "    *   Largest: **8532**\n",
      "    *   Smallest: **2358**\n",
      "    *   8532 - 2358 = **6174**\n",
      "\n",
      "Now, watch what happens if you try to repeat the process with 6174:\n",
      "*   Largest: **7641**\n",
      "*   Smallest: **1467**\n",
      "*   7641 - 1467 = **6174**\n",
      "\n",
      "You're stuck! The number now generates itself forever.\n",
      "\n",
      "The fun fact is this: No matter what four-digit number you start with (as long as the digits aren't all identical), you will **always** reach 6174 in at most 7 steps. It acts like a mathematical black hole for four-digit numbers\n",
      "✅ All good!\n"
     ]
    }
   ],
   "source": [
    "from dotenv import load_dotenv\n",
    "import os\n",
    "import pandas as pd\n",
    "from langchain_google_genai import GoogleGenerativeAI\n",
    "\n",
    "load_dotenv()  \n",
    "google_api = os.getenv(\"GOOGLE-AI_API_KEY\")\n",
    "\n",
    "llm = GoogleGenerativeAI(model=\"gemini-2.5-pro\", api_key=google_api)\n",
    "print(llm.invoke(\"Tell me a fun fact about something from number theory\"))\n",
    "print(\"✅ All good!\") #Poor man's tool, but it works"
   ]
  },
  {
   "cell_type": "code",
   "execution_count": null,
   "id": "f85d5904-d094-436e-a198-1f9477ce14fd",
   "metadata": {},
   "outputs": [],
   "source": [
    "!pip install langchain_experimental.utilities\n",
    "!pip install langchain_core.tools"
   ]
  },
  {
   "cell_type": "code",
   "execution_count": null,
   "id": "0b6183f9-b925-499f-9636-6d5ebabe18a2",
   "metadata": {},
   "outputs": [],
   "source": [
    "# ***\n",
    "from langchain_experimental.utilities import PythonREPL\n",
    "from langchain_core.tools import Tool\n",
    "\n",
    "python_repl = PythonREPL()\n",
    "\n",
    "# Run code directly\n",
    "output = python_repl.run(\"print(1+1)\")\n",
    "\n",
    "# Create a tool for agents\n",
    "repl_tool = Tool(\n",
    "    name=\"python_repl\",\n",
    "    description=\"A Python shell. Use this to execute python commands. Input should be a valid python command. If you want to see the output of a value, you should print it out with `print(...)`.\",\n",
    "    func=python_repl.run,"
   ]
  }
 ],
 "metadata": {
  "kernelspec": {
   "display_name": "Python 3 (ipykernel)",
   "language": "python",
   "name": "python3"
  },
  "language_info": {
   "codemirror_mode": {
    "name": "ipython",
    "version": 3
   },
   "file_extension": ".py",
   "mimetype": "text/x-python",
   "name": "python",
   "nbconvert_exporter": "python",
   "pygments_lexer": "ipython3",
   "version": "3.12.7"
  }
 },
 "nbformat": 4,
 "nbformat_minor": 5
}
