{
 "cells": [
  {
   "cell_type": "markdown",
   "id": "f8f18c30-b99f-49be-989a-3dba194e2e0e",
   "metadata": {},
   "source": [
    "# Data Group(DG) Consulting's Agent"
   ]
  },
  {
   "cell_type": "code",
   "execution_count": 3,
   "id": "00ee5782-2591-4d01-a5e8-57d4c26e7db1",
   "metadata": {},
   "outputs": [
    {
     "name": "stdout",
     "output_type": "stream",
     "text": [
      "Hello World!\n"
     ]
    }
   ],
   "source": [
    "from dotenv import load_dotenv\n",
    "import os\n",
    "\n",
    "load_dotenv()  \n",
    "\n",
    "google_api = os.getenv(\"GOOGLE-AI_API_KEY\")\n",
    "\n",
    "import pandas as pd\n"
   ]
  },
  {
   "cell_type": "code",
   "execution_count": null,
   "id": "0b6183f9-b925-499f-9636-6d5ebabe18a2",
   "metadata": {},
   "outputs": [],
   "source": []
  }
 ],
 "metadata": {
  "kernelspec": {
   "display_name": "Python 3 (ipykernel)",
   "language": "python",
   "name": "python3"
  },
  "language_info": {
   "codemirror_mode": {
    "name": "ipython",
    "version": 3
   },
   "file_extension": ".py",
   "mimetype": "text/x-python",
   "name": "python",
   "nbconvert_exporter": "python",
   "pygments_lexer": "ipython3",
   "version": "3.12.7"
  }
 },
 "nbformat": 4,
 "nbformat_minor": 5
}
